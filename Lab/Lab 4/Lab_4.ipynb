{
 "cells": [
  {
   "attachments": {},
   "cell_type": "markdown",
   "metadata": {},
   "source": [
    "LAB 4:  ANALZING NETWORK DATA LOG\n",
    "\n",
    "You are provided with the data file, in .csv format, in the working directory.  Write the program to extract the following informations. "
   ]
  },
  {
   "attachments": {},
   "cell_type": "markdown",
   "metadata": {},
   "source": [
    "Exercise 4A: TOP TALKERS AND LISTENERS\n",
    "\n",
    "One of the most commonly used function in analyzing data log is finding out the IP address of the hosts that send out large amount of packet and hosts that receive large number of packets, usually know as TOP TALKERS and LISTENERS.  Based on the IP address we can obtained the organization who owns the IP address. "
   ]
  },
  {
   "cell_type": "code",
   "execution_count": 1,
   "metadata": {},
   "outputs": [
    {
     "name": "stdout",
     "output_type": "stream",
     "text": [
      "Requirement already satisfied: ipwhois in d:\\program files\\python310\\lib\\site-packages (1.2.0)"
     ]
    },
    {
     "name": "stderr",
     "output_type": "stream",
     "text": [
      "\n",
      "[notice] A new release of pip is available: 23.0.1 -> 24.0\n",
      "[notice] To update, run: python.exe -m pip install --upgrade pip\n"
     ]
    },
    {
     "name": "stdout",
     "output_type": "stream",
     "text": [
      "\n",
      "Requirement already satisfied: dnspython<=2.0.0 in d:\\program files\\python310\\lib\\site-packages (from ipwhois) (2.0.0)\n"
     ]
    }
   ],
   "source": [
    "# in order to check the organization\n",
    "!pip install ipwhois"
   ]
  },
  {
   "cell_type": "code",
   "execution_count": 2,
   "metadata": {},
   "outputs": [],
   "source": [
    "from ipwhois import IPWhois\n",
    "import pandas as pd"
   ]
  },
  {
   "cell_type": "code",
   "execution_count": 3,
   "metadata": {},
   "outputs": [],
   "source": [
    "column_names = ['Type', 'sflow_agent_address', 'inputPort', 'outputPort',\n",
    "          'src_MAC', 'dst_MAC', 'ethernet_type', 'in_vlan', 'out_vlan',\n",
    "          'src_IP', 'dst_IP', 'IP_protocol', 'ip_tos', 'ip_ttl',\n",
    "          'udp_src_port', 'udp_dst_port', 'tcp_flags',\n",
    "          'packet_size', 'IP_size', 'sampling_rate', 'unknown']\n",
    "df = pd.read_csv(\"Data_3.csv\", header=None, names=column_names)\n",
    "df.drop('unknown', axis=1, inplace=True)"
   ]
  },
  {
   "cell_type": "code",
   "execution_count": 14,
   "metadata": {},
   "outputs": [
    {
     "data": {
      "text/html": [
       "<div>\n",
       "<style scoped>\n",
       "    .dataframe tbody tr th:only-of-type {\n",
       "        vertical-align: middle;\n",
       "    }\n",
       "\n",
       "    .dataframe tbody tr th {\n",
       "        vertical-align: top;\n",
       "    }\n",
       "\n",
       "    .dataframe thead th {\n",
       "        text-align: right;\n",
       "    }\n",
       "</style>\n",
       "<table border=\"1\" class=\"dataframe\">\n",
       "  <thead>\n",
       "    <tr style=\"text-align: right;\">\n",
       "      <th></th>\n",
       "      <th>src_IP</th>\n",
       "      <th># of packets</th>\n",
       "      <th>Organization</th>\n",
       "    </tr>\n",
       "  </thead>\n",
       "  <tbody>\n",
       "    <tr>\n",
       "      <th>0</th>\n",
       "      <td>193.62.192.8</td>\n",
       "      <td>3041</td>\n",
       "      <td>EUR-BIO-INST</td>\n",
       "    </tr>\n",
       "    <tr>\n",
       "      <th>1</th>\n",
       "      <td>155.69.160.32</td>\n",
       "      <td>2975</td>\n",
       "      <td>NTUNET1</td>\n",
       "    </tr>\n",
       "    <tr>\n",
       "      <th>2</th>\n",
       "      <td>130.14.250.11</td>\n",
       "      <td>2604</td>\n",
       "      <td>NLM-ETHER</td>\n",
       "    </tr>\n",
       "    <tr>\n",
       "      <th>3</th>\n",
       "      <td>14.139.196.58</td>\n",
       "      <td>2452</td>\n",
       "      <td>NKN-IIT-GUW</td>\n",
       "    </tr>\n",
       "    <tr>\n",
       "      <th>4</th>\n",
       "      <td>140.112.8.139</td>\n",
       "      <td>2056</td>\n",
       "      <td>T-NTU.EDU.TW-NET</td>\n",
       "    </tr>\n",
       "  </tbody>\n",
       "</table>\n",
       "</div>"
      ],
      "text/plain": [
       "          src_IP  # of packets      Organization\n",
       "0   193.62.192.8          3041      EUR-BIO-INST\n",
       "1  155.69.160.32          2975           NTUNET1\n",
       "2  130.14.250.11          2604         NLM-ETHER\n",
       "3  14.139.196.58          2452       NKN-IIT-GUW\n",
       "4  140.112.8.139          2056  T-NTU.EDU.TW-NET"
      ]
     },
     "execution_count": 14,
     "metadata": {},
     "output_type": "execute_result"
    }
   ],
   "source": [
    "# extract organization name\n",
    "def org(ip):\n",
    "    obj = IPWhois(ip)\n",
    "    organization = obj.lookup_rdap()['network']['name']\n",
    "    return organization\n",
    "\n",
    "# top 5 talkers\n",
    "top_talkers = df.groupby('src_IP').size().reset_index(name='# of packets')\n",
    "top_talkers = top_talkers.sort_values(by='# of packets', ascending=False).head(5).reset_index(drop=True)\n",
    "top_talkers['Organization'] = top_talkers['src_IP'].apply(org)\n",
    "top_talkers"
   ]
  },
  {
   "cell_type": "code",
   "execution_count": 15,
   "metadata": {},
   "outputs": [
    {
     "data": {
      "text/html": [
       "<div>\n",
       "<style scoped>\n",
       "    .dataframe tbody tr th:only-of-type {\n",
       "        vertical-align: middle;\n",
       "    }\n",
       "\n",
       "    .dataframe tbody tr th {\n",
       "        vertical-align: top;\n",
       "    }\n",
       "\n",
       "    .dataframe thead th {\n",
       "        text-align: right;\n",
       "    }\n",
       "</style>\n",
       "<table border=\"1\" class=\"dataframe\">\n",
       "  <thead>\n",
       "    <tr style=\"text-align: right;\">\n",
       "      <th></th>\n",
       "      <th>dst_IP</th>\n",
       "      <th># of packets</th>\n",
       "      <th>Organization</th>\n",
       "    </tr>\n",
       "  </thead>\n",
       "  <tbody>\n",
       "    <tr>\n",
       "      <th>0</th>\n",
       "      <td>103.37.198.100</td>\n",
       "      <td>3841</td>\n",
       "      <td>A-STAR-AS-AP</td>\n",
       "    </tr>\n",
       "    <tr>\n",
       "      <th>1</th>\n",
       "      <td>137.132.228.15</td>\n",
       "      <td>3715</td>\n",
       "      <td>NUSNET</td>\n",
       "    </tr>\n",
       "    <tr>\n",
       "      <th>2</th>\n",
       "      <td>202.21.159.244</td>\n",
       "      <td>2446</td>\n",
       "      <td>RPNET</td>\n",
       "    </tr>\n",
       "    <tr>\n",
       "      <th>3</th>\n",
       "      <td>192.101.107.153</td>\n",
       "      <td>2368</td>\n",
       "      <td>PNNL</td>\n",
       "    </tr>\n",
       "    <tr>\n",
       "      <th>4</th>\n",
       "      <td>103.21.126.2</td>\n",
       "      <td>2056</td>\n",
       "      <td>IITB-IN</td>\n",
       "    </tr>\n",
       "  </tbody>\n",
       "</table>\n",
       "</div>"
      ],
      "text/plain": [
       "            dst_IP  # of packets  Organization\n",
       "0   103.37.198.100          3841  A-STAR-AS-AP\n",
       "1   137.132.228.15          3715        NUSNET\n",
       "2   202.21.159.244          2446         RPNET\n",
       "3  192.101.107.153          2368          PNNL\n",
       "4     103.21.126.2          2056       IITB-IN"
      ]
     },
     "execution_count": 15,
     "metadata": {},
     "output_type": "execute_result"
    }
   ],
   "source": [
    "# top 5 listeners\n",
    "top_listeners = df.groupby('dst_IP').size().reset_index(name='# of packets')\n",
    "top_listeners = top_listeners.sort_values(by='# of packets', ascending=False).head(5).reset_index(drop=True)\n",
    "top_listeners['Organization'] = top_listeners['dst_IP'].apply(org)\n",
    "top_listeners"
   ]
  },
  {
   "attachments": {},
   "cell_type": "markdown",
   "metadata": {},
   "source": [
    "Exercise 4B: TRANSPORT PROTOCOL \n",
    "\n",
    "Using the IP protocol type attribute, determine the percentage of TCP and UDP protocol"
   ]
  },
  {
   "cell_type": "code",
   "execution_count": 27,
   "metadata": {},
   "outputs": [
    {
     "data": {
      "text/html": [
       "<div>\n",
       "<style scoped>\n",
       "    .dataframe tbody tr th:only-of-type {\n",
       "        vertical-align: middle;\n",
       "    }\n",
       "\n",
       "    .dataframe tbody tr th {\n",
       "        vertical-align: top;\n",
       "    }\n",
       "\n",
       "    .dataframe thead th {\n",
       "        text-align: right;\n",
       "    }\n",
       "</style>\n",
       "<table border=\"1\" class=\"dataframe\">\n",
       "  <thead>\n",
       "    <tr style=\"text-align: right;\">\n",
       "      <th></th>\n",
       "      <th>IP_protocol</th>\n",
       "      <th># of packets</th>\n",
       "      <th>percentage</th>\n",
       "    </tr>\n",
       "  </thead>\n",
       "  <tbody>\n",
       "    <tr>\n",
       "      <th>2</th>\n",
       "      <td>6</td>\n",
       "      <td>56064</td>\n",
       "      <td>0.808188</td>\n",
       "    </tr>\n",
       "    <tr>\n",
       "      <th>3</th>\n",
       "      <td>17</td>\n",
       "      <td>9462</td>\n",
       "      <td>0.136399</td>\n",
       "    </tr>\n",
       "  </tbody>\n",
       "</table>\n",
       "</div>"
      ],
      "text/plain": [
       "   IP_protocol  # of packets  percentage\n",
       "2            6         56064    0.808188\n",
       "3           17          9462    0.136399"
      ]
     },
     "execution_count": 27,
     "metadata": {},
     "output_type": "execute_result"
    }
   ],
   "source": [
    "protocol = df.groupby('IP_protocol').size().reset_index(name='# of packets')\n",
    "total_num = protocol['# of packets'].sum()\n",
    "protocol = protocol[(protocol['IP_protocol'] == 6) | (protocol['IP_protocol'] == 17)]\n",
    "protocol['percentage'] = [protocol.loc[protocol['IP_protocol'] == 6, '# of packets'].values[0] / total_num, protocol.loc[protocol['IP_protocol'] == 17, '# of packets'].values[0] / total_num]\n",
    "protocol"
   ]
  },
  {
   "attachments": {},
   "cell_type": "markdown",
   "metadata": {},
   "source": [
    "EXERCISE 4C: APPLICATIONS PROTOCOL\n",
    "\n",
    "Using the Destination IP port number determine the most frequently used application protocol.\n",
    "(For finding the service given the port number https://www.adminsub.net/tcp-udp-port-finder/ )"
   ]
  },
  {
   "cell_type": "code",
   "execution_count": 30,
   "metadata": {},
   "outputs": [
    {
     "data": {
      "text/html": [
       "<div>\n",
       "<style scoped>\n",
       "    .dataframe tbody tr th:only-of-type {\n",
       "        vertical-align: middle;\n",
       "    }\n",
       "\n",
       "    .dataframe tbody tr th {\n",
       "        vertical-align: top;\n",
       "    }\n",
       "\n",
       "    .dataframe thead th {\n",
       "        text-align: right;\n",
       "    }\n",
       "</style>\n",
       "<table border=\"1\" class=\"dataframe\">\n",
       "  <thead>\n",
       "    <tr style=\"text-align: right;\">\n",
       "      <th></th>\n",
       "      <th>udp_dst_port</th>\n",
       "      <th># of packets</th>\n",
       "      <th>Service</th>\n",
       "    </tr>\n",
       "  </thead>\n",
       "  <tbody>\n",
       "    <tr>\n",
       "      <th>0</th>\n",
       "      <td>443</td>\n",
       "      <td>13423</td>\n",
       "      <td>HTTPS</td>\n",
       "    </tr>\n",
       "    <tr>\n",
       "      <th>1</th>\n",
       "      <td>80</td>\n",
       "      <td>2647</td>\n",
       "      <td>HTTP</td>\n",
       "    </tr>\n",
       "    <tr>\n",
       "      <th>2</th>\n",
       "      <td>52866</td>\n",
       "      <td>2068</td>\n",
       "      <td>Dynamic and/or Private Ports</td>\n",
       "    </tr>\n",
       "    <tr>\n",
       "      <th>3</th>\n",
       "      <td>45512</td>\n",
       "      <td>1356</td>\n",
       "      <td>Unassigned</td>\n",
       "    </tr>\n",
       "    <tr>\n",
       "      <th>4</th>\n",
       "      <td>56152</td>\n",
       "      <td>1341</td>\n",
       "      <td>Dynamic and/or Private Ports</td>\n",
       "    </tr>\n",
       "  </tbody>\n",
       "</table>\n",
       "</div>"
      ],
      "text/plain": [
       "   udp_dst_port  # of packets                       Service\n",
       "0           443         13423                         HTTPS\n",
       "1            80          2647                          HTTP\n",
       "2         52866          2068  Dynamic and/or Private Ports\n",
       "3         45512          1356                    Unassigned\n",
       "4         56152          1341  Dynamic and/or Private Ports"
      ]
     },
     "execution_count": 30,
     "metadata": {},
     "output_type": "execute_result"
    }
   ],
   "source": [
    "port = df.groupby('udp_dst_port').size().reset_index(name='# of packets').sort_values(by='# of packets', ascending=False).head(5).reset_index(drop=True)\n",
    "port['Service'] = ['HTTPS', 'HTTP', 'Dynamic and/or Private Ports', 'Unassigned', 'Dynamic and/or Private Ports']\n",
    "port"
   ]
  },
  {
   "attachments": {},
   "cell_type": "markdown",
   "metadata": {},
   "source": [
    "EXERCISE 4D: TRAFFIC \n",
    "\n",
    "The traffic intensity is an important parameter that a network engineer needs to monitor closely to determine if there is congestion. You would use the IP packet size to calculate the estimated total traffic over the monitored period of 15 seconds. (Assume the sampling rate is 1 in 2048)  "
   ]
  },
  {
   "cell_type": "code",
   "execution_count": 31,
   "metadata": {},
   "outputs": [
    {
     "data": {
      "text/plain": [
       "64777822"
      ]
     },
     "execution_count": 31,
     "metadata": {},
     "output_type": "execute_result"
    }
   ],
   "source": [
    "traffic = df['IP_size'].sum()\n"
   ]
  },
  {
   "attachments": {},
   "cell_type": "markdown",
   "metadata": {},
   "source": [
    "EXERCISE 4E: ADDITIONAL ANALYSIS \n",
    "\n",
    "Please append ONE page to provide additional analysis of the data and the insight it provides.\n",
    "Examples include:\n",
    "\n",
    "Top 5 communication pairs; \n",
    "\n",
    "Visualization of communications between different IP hosts;\n",
    "\n",
    "etc."
   ]
  },
  {
   "cell_type": "code",
   "execution_count": 37,
   "metadata": {},
   "outputs": [
    {
     "data": {
      "text/html": [
       "<div>\n",
       "<style scoped>\n",
       "    .dataframe tbody tr th:only-of-type {\n",
       "        vertical-align: middle;\n",
       "    }\n",
       "\n",
       "    .dataframe tbody tr th {\n",
       "        vertical-align: top;\n",
       "    }\n",
       "\n",
       "    .dataframe thead th {\n",
       "        text-align: right;\n",
       "    }\n",
       "</style>\n",
       "<table border=\"1\" class=\"dataframe\">\n",
       "  <thead>\n",
       "    <tr style=\"text-align: right;\">\n",
       "      <th></th>\n",
       "      <th>src_IP</th>\n",
       "      <th>dst_IP</th>\n",
       "      <th># of packets</th>\n",
       "      <th>src_org</th>\n",
       "      <th>dst_org</th>\n",
       "    </tr>\n",
       "  </thead>\n",
       "  <tbody>\n",
       "    <tr>\n",
       "      <th>0</th>\n",
       "      <td>193.62.192.8</td>\n",
       "      <td>137.132.228.15</td>\n",
       "      <td>3041</td>\n",
       "      <td>EUR-BIO-INST</td>\n",
       "      <td>NUSNET</td>\n",
       "    </tr>\n",
       "    <tr>\n",
       "      <th>1</th>\n",
       "      <td>130.14.250.11</td>\n",
       "      <td>103.37.198.100</td>\n",
       "      <td>2599</td>\n",
       "      <td>NLM-ETHER</td>\n",
       "      <td>A-STAR-AS-AP</td>\n",
       "    </tr>\n",
       "    <tr>\n",
       "      <th>2</th>\n",
       "      <td>14.139.196.58</td>\n",
       "      <td>192.101.107.153</td>\n",
       "      <td>2368</td>\n",
       "      <td>NKN-IIT-GUW</td>\n",
       "      <td>PNNL</td>\n",
       "    </tr>\n",
       "    <tr>\n",
       "      <th>3</th>\n",
       "      <td>140.112.8.139</td>\n",
       "      <td>103.21.126.2</td>\n",
       "      <td>2056</td>\n",
       "      <td>T-NTU.EDU.TW-NET</td>\n",
       "      <td>IITB-IN</td>\n",
       "    </tr>\n",
       "    <tr>\n",
       "      <th>4</th>\n",
       "      <td>137.132.228.15</td>\n",
       "      <td>193.62.192.8</td>\n",
       "      <td>1910</td>\n",
       "      <td>NUSNET</td>\n",
       "      <td>EUR-BIO-INST</td>\n",
       "    </tr>\n",
       "  </tbody>\n",
       "</table>\n",
       "</div>"
      ],
      "text/plain": [
       "           src_IP           dst_IP  # of packets           src_org   \n",
       "0    193.62.192.8   137.132.228.15          3041      EUR-BIO-INST  \\\n",
       "1   130.14.250.11   103.37.198.100          2599         NLM-ETHER   \n",
       "2   14.139.196.58  192.101.107.153          2368       NKN-IIT-GUW   \n",
       "3   140.112.8.139     103.21.126.2          2056  T-NTU.EDU.TW-NET   \n",
       "4  137.132.228.15     193.62.192.8          1910            NUSNET   \n",
       "\n",
       "        dst_org  \n",
       "0        NUSNET  \n",
       "1  A-STAR-AS-AP  \n",
       "2          PNNL  \n",
       "3       IITB-IN  \n",
       "4  EUR-BIO-INST  "
      ]
     },
     "execution_count": 37,
     "metadata": {},
     "output_type": "execute_result"
    }
   ],
   "source": [
    "# top 5 communication pairs\n",
    "top_pairs = df.groupby(['src_IP', 'dst_IP']).size().reset_index(name='# of packets').sort_values(by='# of packets', ascending=False).head(5).reset_index(drop=True)\n",
    "top_pairs['src_org'] = top_pairs['src_IP'].apply(org)\n",
    "top_pairs['dst_org'] = top_pairs['dst_IP'].apply(org)\n",
    "top_pairs"
   ]
  },
  {
   "cell_type": "code",
   "execution_count": 94,
   "metadata": {},
   "outputs": [
    {
     "data": {
      "image/png": "[encoded data removed]",
      "text/plain": [
       "<Figure size 640x480 with 1 Axes>"
      ]
     },
     "metadata": {},
     "output_type": "display_data"
    }
   ],
   "source": [
    "import numpy as np\n",
    "import networkx as nx\n",
    "import matplotlib.pyplot as plt\n",
    "\n",
    "\n",
    "np.random.seed(42)\n",
    "G = nx.from_pandas_edgelist(top_pairs, 'src_IP', 'dst_IP',  create_using=nx.DiGraph())\n",
    "num_nodes = len(G.nodes())\n",
    "angular_separation = 2 * np.pi / num_nodes\n",
    "random_angles = np.arange(0, 2 * np.pi, angular_separation)\n",
    "np.random.shuffle(random_angles)\n",
    "pos = {node: (np.cos(angle), np.sin(angle)) for node, angle in zip(G.nodes(), random_angles)}\n",
    "nx.draw_networkx_nodes(G, pos, node_size=10)\n",
    "nx.draw_networkx_edges(G, pos, width=2, arrows=True)\n",
    "nx.draw_networkx_labels(G, pos, font_size=10, font_family='sans-serif')\n",
    "plt.title('Top 5 communication pairs')\n",
    "plt.axis('off')\n",
    "plt.show()"
   ]
  }
 ],
 "metadata": {
  "kernelspec": {
   "display_name": "Python 3",
   "language": "python",
   "name": "python3"
  },
  "language_info": {
   "codemirror_mode": {
    "name": "ipython",
    "version": 3
   },
   "file_extension": ".py",
   "mimetype": "text/x-python",
   "name": "python",
   "nbconvert_exporter": "python",
   "pygments_lexer": "ipython3",
   "version": "3.10.11"
  },
  "orig_nbformat": 4
 },
 "nbformat": 4,
 "nbformat_minor": 2
}
